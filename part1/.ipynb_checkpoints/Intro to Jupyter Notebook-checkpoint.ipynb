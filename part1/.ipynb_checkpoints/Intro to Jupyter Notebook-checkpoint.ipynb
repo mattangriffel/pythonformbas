{
 "cells": [
  {
   "cell_type": "markdown",
   "metadata": {},
   "source": [
    "# Introduction to Jupyter (formerly known as IPython) Notebook"
   ]
  },
  {
   "cell_type": "markdown",
   "metadata": {},
   "source": [
    "## 1) Click HERE only once (so the blue bar shows up on the left)"
   ]
  },
  {
   "cell_type": "markdown",
   "metadata": {
    "collapsed": true
   },
   "source": [
    "## 2) Use your arrow keys to move up and down"
   ]
  },
  {
   "cell_type": "markdown",
   "metadata": {},
   "source": [
    "## 3) Stop on this row and press enter – notice you're now editing the row"
   ]
  },
  {
   "cell_type": "markdown",
   "metadata": {},
   "source": [
    "## 4) Press shift + enter to execute the row"
   ]
  },
  {
   "cell_type": "markdown",
   "metadata": {},
   "source": [
    "## 5) Now press B to create a new cell below the cursor – or A for above."
   ]
  },
  {
   "cell_type": "markdown",
   "metadata": {
    "collapsed": true
   },
   "source": [
    "## 6) Practice step 5 a few times"
   ]
  },
  {
   "cell_type": "markdown",
   "metadata": {},
   "source": [
    "## 7) Press ESC and use your arrow keys to highlight one of the new empty cells you created"
   ]
  },
  {
   "cell_type": "markdown",
   "metadata": {},
   "source": [
    "## 8)  Delete the empty cell pressing d + d (be careful!)"
   ]
  },
  {
   "cell_type": "markdown",
   "metadata": {},
   "source": [
    "## 9) Run the Python code below by highlighting the cells and pressing shift + enter"
   ]
  },
  {
   "cell_type": "code",
   "execution_count": null,
   "metadata": {},
   "outputs": [],
   "source": [
    "congratulations = \"good job!\""
   ]
  },
  {
   "cell_type": "code",
   "execution_count": null,
   "metadata": {
    "scrolled": true
   },
   "outputs": [],
   "source": [
    "print(congratulations)"
   ]
  },
  {
   "cell_type": "markdown",
   "metadata": {},
   "source": [
    "### A few notes:\n",
    "\n",
    "- Rows can contain many different languages, today we're just using Python and Markdown\n",
    "- We can also use [Markdown](https://github.com/adam-p/markdown-here/wiki/Markdown-Cheatsheet) in cells to format text, display web sites, etc. (To do this, change the dropdown in the menu bar from 'Code' to 'Markdown')\n",
    "- When in doubt, press ESC once to exit editing mode and use your arrows, A, B, dd, etc"
   ]
  },
  {
   "cell_type": "markdown",
   "metadata": {},
   "source": [
    "## 10) Finally, close and reopen this file. Rerun all the cells by clicking 'Kernel' (in the menu bar) > 'Restart & Run All'"
   ]
  }
 ],
 "metadata": {
  "kernelspec": {
   "display_name": "Python 3",
   "language": "python",
   "name": "python3"
  },
  "language_info": {
   "codemirror_mode": {
    "name": "ipython",
    "version": 3
   },
   "file_extension": ".py",
   "mimetype": "text/x-python",
   "name": "python",
   "nbconvert_exporter": "python",
   "pygments_lexer": "ipython3",
   "version": "3.7.1"
  }
 },
 "nbformat": 4,
 "nbformat_minor": 1
}
